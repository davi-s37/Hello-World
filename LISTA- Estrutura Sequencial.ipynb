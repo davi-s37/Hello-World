{
 "cells": [
  {
   "cell_type": "markdown",
   "id": "bb0f9514",
   "metadata": {},
   "source": [
    "# Lista de Estrutura Sequencial"
   ]
  },
  {
   "cell_type": "markdown",
   "id": "4e7a8c30",
   "metadata": {},
   "source": [
    "#### 1. Faça um Programa que mostre a mensagem (print) \"Alo mundo\" na tela."
   ]
  },
  {
   "cell_type": "code",
   "execution_count": 1,
   "id": "883bfe85",
   "metadata": {},
   "outputs": [
    {
     "name": "stdout",
     "output_type": "stream",
     "text": [
      "Alo mundo :)\n"
     ]
    }
   ],
   "source": [
    "print('Alo mundo :)')"
   ]
  },
  {
   "cell_type": "markdown",
   "id": "71d6d6a2",
   "metadata": {},
   "source": [
    "#### 2. Faça um Programa que peça um número (input) e então mostre a mensagem: \"O número informado foi [número].\""
   ]
  },
  {
   "cell_type": "code",
   "execution_count": 3,
   "id": "30cfffcf",
   "metadata": {},
   "outputs": [
    {
     "name": "stdout",
     "output_type": "stream",
     "text": [
      "Informe um número5\n",
      "o número informado foi 5\n"
     ]
    }
   ],
   "source": [
    "numero=input('Informe um número')\n",
    "print(f'o número informado foi {numero}')"
   ]
  },
  {
   "cell_type": "markdown",
   "id": "c5e43160",
   "metadata": {},
   "source": [
    "#### 3. Faça um Programa que peça dois números e imprima a soma."
   ]
  },
  {
   "cell_type": "code",
   "execution_count": 5,
   "id": "b0e79590",
   "metadata": {},
   "outputs": [
    {
     "name": "stdout",
     "output_type": "stream",
     "text": [
      "Informe o primeiro número: 5\n",
      "Informe o segundo número: 6\n",
      "A soma dos números informados é 11\n"
     ]
    }
   ],
   "source": [
    "numero1=int(input('Informe o primeiro número: '))\n",
    "numero2=int(input('Informe o segundo número: '))\n",
    "print(f'A soma dos números informados é {numero1 + numero2}')"
   ]
  },
  {
   "cell_type": "markdown",
   "id": "17826987",
   "metadata": {},
   "source": [
    "#### 4. Faça um Programa que peça as 4 notas bimestrais de um aluno e mostre a média de todas as notas."
   ]
  },
  {
   "cell_type": "code",
   "execution_count": 6,
   "id": "23b66762",
   "metadata": {},
   "outputs": [
    {
     "name": "stdout",
     "output_type": "stream",
     "text": [
      "Informe a primeira nota: 7\n",
      "Informe a segunda nota: 8\n",
      "Informe a terceira nota: 9\n",
      "Informe a quarta nota: 10\n",
      "A média das notas informados é 8.5\n"
     ]
    }
   ],
   "source": [
    "numero1=int(input('Informe a primeira nota: '))\n",
    "numero2=int(input('Informe a segunda nota: '))\n",
    "numero3=int(input('Informe a terceira nota: '))\n",
    "numero4=int(input('Informe a quarta nota: '))\n",
    "print(f'A média das notas informados é {(numero1 + numero2 + numero3 + numero4)/4}')"
   ]
  },
  {
   "cell_type": "markdown",
   "id": "62d461c5",
   "metadata": {},
   "source": [
    "#### 5. Faça um Programa que converta metros para centímetros. Você pode pedir o comprimento em metros para o usuário (input)."
   ]
  },
  {
   "cell_type": "code",
   "execution_count": 9,
   "id": "d642f1ba",
   "metadata": {},
   "outputs": [
    {
     "name": "stdout",
     "output_type": "stream",
     "text": [
      "informe o valor em metros0.5\n",
      "Este valor equivale a 50.0 centímetros \n"
     ]
    }
   ],
   "source": [
    "metro=float(input('informe o valor em metros'))\n",
    "print(f'Este valor equivale a {metro*100} centímetros ')"
   ]
  },
  {
   "cell_type": "markdown",
   "id": "f1311697",
   "metadata": {},
   "source": [
    "#### 7. Faça um Programa que calcule a área de uma sala de um apartamento. Para isso, o seu programa precisa pedir a largura da sala, o comprimento da sala e imprimir a área em m² da sala."
   ]
  },
  {
   "cell_type": "code",
   "execution_count": 10,
   "id": "612ea24b",
   "metadata": {},
   "outputs": [
    {
     "name": "stdout",
     "output_type": "stream",
     "text": [
      "Informe a largura do cômodo: 3\n",
      "Informe o comprimento do cômodo: 4.5\n",
      "A área do cômodo é igual a 13.5 metros quadrados\n"
     ]
    }
   ],
   "source": [
    "largura=float(input('Informe a largura do cômodo: '))\n",
    "comprimento=float(input('Informe o comprimento do cômodo: '))\n",
    "print(f'A área do cômodo é igual a {largura*comprimento} metros quadrados')"
   ]
  },
  {
   "cell_type": "markdown",
   "id": "2a285929",
   "metadata": {},
   "source": [
    "#### 8. Faça um Programa que pergunte quanto você ganha por hora e o número de horas trabalhadas no mês. Calcule e mostre o total do seu salário no referido mês."
   ]
  },
  {
   "cell_type": "code",
   "execution_count": 12,
   "id": "359e2232",
   "metadata": {},
   "outputs": [
    {
     "name": "stdout",
     "output_type": "stream",
     "text": [
      "Quantos reais você ganha por hora? 20\n",
      "Quantas horas você trabalha por mês? 30\n",
      "Seu salário no referido mês é de R$600.0.\n"
     ]
    }
   ],
   "source": [
    "ganho=float(input('Quantos reais você ganha por hora? '))\n",
    "horas=float(input('Quantas horas você trabalha por mês? '))\n",
    "print(f'Seu salário no referido mês é de R${ganho*horas}.')"
   ]
  },
  {
   "cell_type": "markdown",
   "id": "7e2d4615",
   "metadata": {},
   "source": [
    "#### 9. Vamos criar um conversor de temperatura. Faça um Programa que peça a temperatura em graus Fahrenheit, transforme e mostre a temperatura em graus Celsius.\n",
    "$C = \\frac{5}{9}(F-32)$"
   ]
  },
  {
   "cell_type": "code",
   "execution_count": 15,
   "id": "82daf9fd",
   "metadata": {},
   "outputs": [
    {
     "name": "stdout",
     "output_type": "stream",
     "text": [
      "Informe a temperatura em Fahrenheit: 300\n",
      "A temperatura em Celsius é igual a 148.88888888888889ºC.\n"
     ]
    }
   ],
   "source": [
    "Tempf=float(input('Informe a temperatura em Fahrenheit: '))\n",
    "Tempc=5/9*(Tempf-32)\n",
    "print(f'A temperatura em Celsius é igual a {Tempc}ºC.')"
   ]
  },
  {
   "cell_type": "markdown",
   "id": "20708b1c",
   "metadata": {},
   "source": [
    "#### 10. Faça um Programa que peça a temperatura em graus Celsius, transforme e mostre em graus Fahrenheit.\n",
    "$F = \\frac{9}{5}C + 32$"
   ]
  },
  {
   "cell_type": "code",
   "execution_count": 17,
   "id": "c73cfb38",
   "metadata": {},
   "outputs": [
    {
     "name": "stdout",
     "output_type": "stream",
     "text": [
      "Informe a temperatura em Celsius: 100\n",
      "A temperatura em Fahrenheit é igual a 237.6F.\n"
     ]
    }
   ],
   "source": [
    "Tempc=float(input('Informe a temperatura em Celsius: '))\n",
    "Tempf=9/5*(Tempc+32)\n",
    "print(f'A temperatura em Fahrenheit é igual a {Tempf}F.')"
   ]
  },
  {
   "cell_type": "markdown",
   "id": "b263a9dc",
   "metadata": {},
   "source": [
    "#### 12. Tendo como dados de entrada a altura (h) de uma pessoa, construa um algoritmo que calcule seu peso ideal, usando a seguinte fórmula:\n",
    "$P = 72,7h - 58$\n",
    "\n",
    "Lembrando que \"algoritmo\" nada mais é do que um programa, como todos os outros que você vem fazendo"
   ]
  },
  {
   "cell_type": "code",
   "execution_count": 18,
   "id": "9a9b8dca",
   "metadata": {},
   "outputs": [
    {
     "name": "stdout",
     "output_type": "stream",
     "text": [
      "Qual a sua altura em metros? 1.81\n",
      "seu peso ideal é 73.58700000000002kg\n"
     ]
    }
   ],
   "source": [
    "altura=float(input('Qual a sua altura em metros? '))\n",
    "pesoid=72.7*altura-58\n",
    "print(f'seu peso ideal é {pesoid}kg')"
   ]
  },
  {
   "cell_type": "markdown",
   "id": "13bb40d7",
   "metadata": {},
   "source": [
    "#### 13. Tendo como dado de entrada a altura (h) de uma pessoa, construa um algoritmo que calcule seu peso ideal, utilizando as seguintes fórmulas:\n",
    "##### a. Para homens: $P = 72,7h - 58$\n",
    "##### b. Para mulheres: $P = 62,1h - 44,7$"
   ]
  },
  {
   "cell_type": "code",
   "execution_count": 19,
   "id": "bf82dc8c",
   "metadata": {},
   "outputs": [
    {
     "name": "stdout",
     "output_type": "stream",
     "text": [
      "Qual a sua altura em metros? 1.65\n",
      "Se você é homem, seu peso ideal é 61.955kg\n",
      "Se você é mulher, seu peso ideal é 57.765kg\n"
     ]
    }
   ],
   "source": [
    "altura=float(input('Qual a sua altura em metros? '))\n",
    "pesoidh=72.7*altura-58\n",
    "pesoidm=62.1*altura-44.7\n",
    "print(f'Se você é homem, seu peso ideal é {pesoidh}kg')\n",
    "print(f'Se você é mulher, seu peso ideal é {pesoidm}kg')"
   ]
  },
  {
   "cell_type": "markdown",
   "id": "f208ef89",
   "metadata": {},
   "source": [
    "#### 15. Faça um Programa que pergunte quanto você ganha por hora e o número de horas trabalhadas no mês."
   ]
  },
  {
   "cell_type": "code",
   "execution_count": 21,
   "id": "2d5b23e0",
   "metadata": {},
   "outputs": [
    {
     "name": "stdout",
     "output_type": "stream",
     "text": [
      "Informe o quanto você ganha por hora: 50\n",
      "Informe quantas horas você trabalha por mês: 60\n"
     ]
    }
   ],
   "source": [
    "ganhohora=float(input('Informe o quanto você ganha por hora: '))\n",
    "horatrab=float(input('Informe quantas horas você trabalha por mês: '))"
   ]
  },
  {
   "cell_type": "markdown",
   "id": "607dee3c",
   "metadata": {},
   "source": [
    "#####  Calcule o salário bruto (horas * salario por hora)"
   ]
  },
  {
   "cell_type": "code",
   "execution_count": 24,
   "id": "7f80ccbb",
   "metadata": {},
   "outputs": [
    {
     "name": "stdout",
     "output_type": "stream",
     "text": [
      "Seu salário bruto é de R$3000.0\n"
     ]
    }
   ],
   "source": [
    "sbut=ganhohora*horatrab\n",
    "print(f'Seu salário bruto é de R${sbut}')"
   ]
  },
  {
   "cell_type": "markdown",
   "id": "2ed93cb0",
   "metadata": {},
   "source": [
    "##### Calcule o desconto do IR (11% do salário bruto)"
   ]
  },
  {
   "cell_type": "code",
   "execution_count": 26,
   "id": "3363e22f",
   "metadata": {},
   "outputs": [
    {
     "name": "stdout",
     "output_type": "stream",
     "text": [
      "O desconto do Imposto de renda é equivalente a R$330.0\n"
     ]
    }
   ],
   "source": [
    "IR=11/100*sbut\n",
    "print(f'O desconto do Imposto de renda é equivalente a R${IR}')"
   ]
  },
  {
   "cell_type": "markdown",
   "id": "0994b2c0",
   "metadata": {},
   "source": [
    "##### Calcule o desconto do INSS (8% do salário bruto)"
   ]
  },
  {
   "cell_type": "code",
   "execution_count": 27,
   "id": "748c6088",
   "metadata": {},
   "outputs": [
    {
     "name": "stdout",
     "output_type": "stream",
     "text": [
      "O desconto do INSS é igual a R$240.0.\n"
     ]
    }
   ],
   "source": [
    "INSS=8/100*sbut\n",
    "print(f'O desconto do INSS é igual a R${INSS}.')"
   ]
  },
  {
   "cell_type": "markdown",
   "id": "06e8dae4",
   "metadata": {},
   "source": [
    "##### Calcule o desconto do sindicato (5% do salário bruto)"
   ]
  },
  {
   "cell_type": "code",
   "execution_count": 28,
   "id": "21b95b15",
   "metadata": {
    "scrolled": true
   },
   "outputs": [
    {
     "name": "stdout",
     "output_type": "stream",
     "text": [
      "O desconto do sindicato é igual a R$150.0.\n"
     ]
    }
   ],
   "source": [
    "sint=5/100*sbut\n",
    "print(f'O desconto do sindicato é igual a R${sint}.')"
   ]
  },
  {
   "cell_type": "markdown",
   "id": "bb14ce36",
   "metadata": {},
   "source": [
    "##### Calcule o salário líquido (salário bruto - descontos)"
   ]
  },
  {
   "cell_type": "code",
   "execution_count": 29,
   "id": "56317086",
   "metadata": {},
   "outputs": [
    {
     "name": "stdout",
     "output_type": "stream",
     "text": [
      "O seu salário líquido é igual a R$2280.0\n"
     ]
    }
   ],
   "source": [
    "sliquid=sbut-INSS-IR-sint\n",
    "print(f'O seu salário líquido é igual a R${sliquid}')"
   ]
  },
  {
   "cell_type": "markdown",
   "id": "cfbfcc87",
   "metadata": {},
   "source": [
    "#### 16. Faça um programa para uma loja de tintas. O programa deverá pedir o tamanho em metros quadrados da área a ser pintada. Considere que a cobertura da tinta é de 1 litro para cada 3 metros quadrados e que a tinta é vendida em latas de 18 litros, que custam R\\$ 80,00. Informe ao usuário a quantidades de latas de tinta a serem compradas e o preço total. (para simplificação nesse momento, não se preocupe em arredondar a quantidade de latas a serem compradas - vamos trabalhar isso em breve)"
   ]
  },
  {
   "cell_type": "code",
   "execution_count": 32,
   "id": "fb6a083b",
   "metadata": {},
   "outputs": [
    {
     "name": "stdout",
     "output_type": "stream",
     "text": [
      "Informe a área que será pintada em metros quadrados: 54\n",
      "Será preciso consumir 18.0 litros de tinta\n",
      "Para isto será preciso 1.0 latas de tinta\n",
      "Isto tudo custará R$80.0.\n"
     ]
    }
   ],
   "source": [
    "area=float(input('Informe a área que será pintada em metros quadrados: '))\n",
    "qtLitros=area/3\n",
    "qtLatas=qtLitros/18\n",
    "pcLatas=qtLatas*80\n",
    "print(f'Será preciso consumir {qtLitros} litros de tinta')\n",
    "print(f'Para isto será preciso {qtLatas} latas de tinta')\n",
    "print(f'Isto tudo custará R${pcLatas}.')"
   ]
  },
  {
   "cell_type": "markdown",
   "id": "d6503c92",
   "metadata": {},
   "source": [
    "#### 18. Faça um programa que peça o tamanho de um arquivo para download (em MB) e a velocidade de um link de Internet (em Mbps), calcule e informe o tempo aproximado de download do arquivo usando este link (em minutos).\n",
    "\n",
    "Detalhe: MB significa megabyte, Mb (com b minúsculo) significa megabit. Um megabit é 1/8 de um megabyte. "
   ]
  },
  {
   "cell_type": "code",
   "execution_count": 35,
   "id": "0563aa62",
   "metadata": {},
   "outputs": [
    {
     "name": "stdout",
     "output_type": "stream",
     "text": [
      "Informe o tamanho do arquivo para download em MB100\n",
      "Informe a velocidade da internet em Mbps1\n",
      "O tempo estimado de download é de 13.333333333333334 minutos\n"
     ]
    }
   ],
   "source": [
    "tam=float(input('Informe o tamanho do arquivo para download em MB'))\n",
    "vel=float(input('Informe a velocidade da internet em Mbps'))\n",
    "tempt=tam/(vel*1/8*60)\n",
    "print(f'O tempo estimado de download é de {tempt} minutos')"
   ]
  }
 ],
 "metadata": {
  "kernelspec": {
   "display_name": "Python 3 (ipykernel)",
   "language": "python",
   "name": "python3"
  },
  "language_info": {
   "codemirror_mode": {
    "name": "ipython",
    "version": 3
   },
   "file_extension": ".py",
   "mimetype": "text/x-python",
   "name": "python",
   "nbconvert_exporter": "python",
   "pygments_lexer": "ipython3",
   "version": "3.9.13"
  }
 },
 "nbformat": 4,
 "nbformat_minor": 5
}
