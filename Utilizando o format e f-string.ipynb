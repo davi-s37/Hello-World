{
 "cells": [
  {
   "cell_type": "markdown",
   "id": "2603a7c6",
   "metadata": {},
   "source": [
    "### Utilizando o Format"
   ]
  },
  {
   "cell_type": "code",
   "execution_count": 10,
   "id": "d2e0927a",
   "metadata": {},
   "outputs": [
    {
     "name": "stdout",
     "output_type": "stream",
     "text": [
      "Informe seu primeiro nome: Davi\n",
      "informe seu sobrenome: Nascimento\n",
      "informe a sua idade: 24\n",
      "\n",
      "Olá Davi Nascimento\n",
      "Você tem 24 anos, certo?\n"
     ]
    }
   ],
   "source": [
    "Nome=input('Informe seu primeiro nome: ')\n",
    "Sobrenome=input('informe seu sobrenome: ')\n",
    "Idade=int(input('informe a sua idade: '))\n",
    "\n",
    "    \n",
    "print('\\nOlá {} {}\\nVocê tem {} anos, certo?' .format(Nome, Sobrenome, Idade))"
   ]
  },
  {
   "cell_type": "markdown",
   "id": "163f9024",
   "metadata": {},
   "source": [
    "### Utilizando o F-string"
   ]
  },
  {
   "cell_type": "code",
   "execution_count": 9,
   "id": "b401dd2d",
   "metadata": {},
   "outputs": [
    {
     "name": "stdout",
     "output_type": "stream",
     "text": [
      "\n",
      "Olá Davi Nascimento\n",
      "Você tem 24 anos, certo?\n"
     ]
    }
   ],
   "source": [
    "print(f'\\nOlá {Nome} {Sobrenome}\\nVocê tem {Idade} anos, certo?')"
   ]
  }
 ],
 "metadata": {
  "kernelspec": {
   "display_name": "Python 3 (ipykernel)",
   "language": "python",
   "name": "python3"
  },
  "language_info": {
   "codemirror_mode": {
    "name": "ipython",
    "version": 3
   },
   "file_extension": ".py",
   "mimetype": "text/x-python",
   "name": "python",
   "nbconvert_exporter": "python",
   "pygments_lexer": "ipython3",
   "version": "3.9.13"
  }
 },
 "nbformat": 4,
 "nbformat_minor": 5
}
