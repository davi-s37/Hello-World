{
 "cells": [
  {
   "cell_type": "markdown",
   "id": "8535c274",
   "metadata": {
    "id": "8535c274"
   },
   "source": [
    "# Estruturas de decisão\n",
    "\n",
    "<span style=\"color: red;\"><b>Todos os exercícios são feitos partindo-se do pressuposto de que todas as entradas são dadas de forma correta. Casos limite não mencionados no enunciado não são abordados porque não fazem parte do exercício.</b></span>"
   ]
  },
  {
   "cell_type": "markdown",
   "id": "9c3d817e",
   "metadata": {
    "id": "9c3d817e"
   },
   "source": [
    "#### 1. Faça um Programa que peça dois números e imprima o maior deles."
   ]
  },
  {
   "cell_type": "code",
   "execution_count": 22,
   "id": "ae45c028",
   "metadata": {
    "id": "ae45c028"
   },
   "outputs": [
    {
     "name": "stdout",
     "output_type": "stream",
     "text": [
      "Informe um número: 5\n",
      "Informe outro número: 5\n",
      "informe valores válidos e distintos entre si\n"
     ]
    }
   ],
   "source": [
    "##coleta dos números e definindo variáveis\n",
    "\n",
    "num1=(input('Informe um número: '))\n",
    "num2=(input('Informe outro número: '))\n",
    "maior_num=0\n",
    "\n",
    "##comparação e armazenamento do maior\n",
    "if (num1 and num2) and num1 != num2:\n",
    "    num1=float(num1)\n",
    "    num2=float(num2)\n",
    "    if num1 > num2:\n",
    "        maior_num=num1\n",
    "    if num1 < num2:\n",
    "        maior_num=num2\n",
    "    print('O maior número informado é {}'.format(maior_num))\n",
    "else:\n",
    "    print('informe valores válidos e distintos entre si')\n",
    "\n",
    "##  A lista pede para descartar casos limites não explicitados nas questões, mas como esta era a primeira questão, decidi \n",
    "##avaliar casos de input vazop e de números iguais.\n"
   ]
  },
  {
   "cell_type": "markdown",
   "id": "ff510803",
   "metadata": {
    "id": "ff510803"
   },
   "source": [
    "#### 2. Faça um Programa que peça um valor e mostre na tela se o valor é positivo ou negativo."
   ]
  },
  {
   "cell_type": "code",
   "execution_count": 23,
   "id": "8952f58f",
   "metadata": {
    "id": "8952f58f"
   },
   "outputs": [
    {
     "name": "stdout",
     "output_type": "stream",
     "text": [
      "Informe um número positivo ou negativo5\n",
      "o número informado é positivo\n"
     ]
    }
   ],
   "source": [
    "#coleta de input\n",
    "tipo = ''\n",
    "valor = input('Informe um número positivo ou negativo')\n",
    "valor=float(valor)\n",
    "\n",
    "#avaliação e definição do tipo\n",
    "if valor >= 0:\n",
    "    tipo = 'positivo'\n",
    "else:\n",
    "    tipo = 'negativo'\n",
    "    \n",
    "#print do tipo\n",
    "print('o número informado é {}'.format(tipo))"
   ]
  },
  {
   "cell_type": "markdown",
   "id": "6966546b",
   "metadata": {
    "id": "6966546b"
   },
   "source": [
    "#### 3. Faça um Programa que verifique o estado civil de uma pessoa. Se a letra digitada é \"C\" (Casado), \"S\" (Solteiro), \"D\" (Divorciado), \"V\" (Viúvo) ou \"O\" (outros). Conforme a letra escrita pelo usuário seu programa deve escrever o estado civil, exemplo:\n",
    "\n",
    "Usuário digita: C\n",
    "\n",
    "Seu programa deve responder:\n",
    "C - Casado"
   ]
  },
  {
   "cell_type": "code",
   "execution_count": 28,
   "id": "876a1e67",
   "metadata": {
    "id": "876a1e67"
   },
   "outputs": [
    {
     "name": "stdout",
     "output_type": "stream",
     "text": [
      "Informe se você é  \"C\" (Casado), \"S\" (Solteiro), \"D\" (Divorciado), \"V\" (Viúvo) ou \"O\" (outros): \n",
      "S\n",
      "S - Solteiro\n"
     ]
    }
   ],
   "source": [
    "##Modo cabeção ativado >:S\n",
    "\n",
    "status=input('Informe se você é  \"C\" (Casado), \"S\" (Solteiro), \"D\" (Divorciado), \"V\" (Viúvo) ou \"O\" (outros): \\n')\n",
    "if status == 'C':\n",
    "    print('C - Casado')\n",
    "elif status == 'S':\n",
    "    print('S - Solteiro')\n",
    "elif status == 'D':\n",
    "    print('D - Divorciado')\n",
    "elif status == 'V':\n",
    "    print (\"V - Viúvo\")\n",
    "elif status == 'O':\n",
    "    print('O - Outros')\n",
    "else:\n",
    "    print('Input inválido')"
   ]
  },
  {
   "cell_type": "markdown",
   "id": "c122c0cf",
   "metadata": {
    "id": "c122c0cf"
   },
   "source": [
    "#### 4. Faça um Programa que verifique se o e-mail digitado faz parte dos e-mails de spam."
   ]
  },
  {
   "cell_type": "code",
   "execution_count": 33,
   "id": "59bed184",
   "metadata": {
    "id": "59bed184"
   },
   "outputs": [
    {
     "name": "stdout",
     "output_type": "stream",
     "text": [
      "Informe seu e-mail: \n",
      "testeste\n",
      "Seu email é Ok\n"
     ]
    }
   ],
   "source": [
    "##coletar input e definições simples\n",
    "emails_spam = \"fulano@gmail.com,beltrano@gmail.com,ciclano@gmail.com\"\n",
    "email_usuario=input('Informe seu e-mail: \\n')\n",
    "status=0\n",
    "\n",
    "#categorizando\n",
    "if email_usuario in emails_spam:\n",
    "    status=('Spam')\n",
    "else:\n",
    "    status=('Ok')\n",
    "    \n",
    "#Arranjoo feito para que o código tivesse apenas uma linha de print    \n",
    "print(f'Seu email é {status}')"
   ]
  },
  {
   "cell_type": "markdown",
   "id": "487ee073",
   "metadata": {
    "id": "487ee073"
   },
   "source": [
    "#### 5. Faça um programa para a leitura de duas notas parciais de um aluno. O programa deve calcular a média alcançada por aluno e apresentar:\n",
    "\n",
    "##### A mensagem \"Aprovado\", se a média alcançada for maior ou igual a sete;\n",
    "##### A mensagem \"Reprovado\", se a média for menor do que sete;\n",
    "##### A mensagem \"Aprovado com Distinção\", se a média for igual a dez."
   ]
  },
  {
   "cell_type": "code",
   "execution_count": 39,
   "id": "7f5c7096",
   "metadata": {
    "id": "7f5c7096"
   },
   "outputs": [
    {
     "name": "stdout",
     "output_type": "stream",
     "text": [
      "Informe a primeira nota: 7\n",
      "Informe a segunda nota: 4\n",
      "Informe a terceira nota: 2\n",
      "Sua média é de 4.333333333333333 pontos\n",
      "Reprovado\n"
     ]
    }
   ],
   "source": [
    "#coletar notas e transformar em float\n",
    "nota1 = input('Informe a primeira nota: ')\n",
    "nota2 = input('Informe a segunda nota: ')\n",
    "nota3 = input('Informe a terceira nota: ')\n",
    "\n",
    "nota1 = float(nota1)\n",
    "nota2 = float(nota2)\n",
    "nota3 = float(nota3)\n",
    "\n",
    "#cálculo da média. Fácil\n",
    "media=(nota1 + nota2 + nota3) / 3\n",
    "\n",
    "#Acrescentei esta linha para ver o valor da média e comparar com o status lançado\n",
    "print('Sua média é de {} pontos'.format(media))\n",
    "\n",
    "\n",
    "#usando ifs para categorizar e já mandando o print correspondente ao status\n",
    "if media == 10:\n",
    "    print('Aprovado com Distinção')\n",
    "elif media < 7:\n",
    "    print('Reprovado')\n",
    "else:\n",
    "    print('Aprovado')"
   ]
  },
  {
   "cell_type": "markdown",
   "id": "6dd3f171",
   "metadata": {
    "id": "6dd3f171"
   },
   "source": [
    "#### 6. Faça um Programa que leia o orçamento de 3 empresas e mostre o maior deles."
   ]
  },
  {
   "cell_type": "code",
   "execution_count": 53,
   "id": "51b591e5",
   "metadata": {
    "id": "51b591e5"
   },
   "outputs": [
    {
     "name": "stdout",
     "output_type": "stream",
     "text": [
      "Informe o valor do orçamento da empresa 1: 1\n",
      "Informe o valor do orçamento da empresa 2: 2\n",
      "Informe o valor do orçamento da empresa 3: 3\n",
      "O maior orçamento foi no valor de R$3.0\n"
     ]
    }
   ],
   "source": [
    "#coletar valores e transformar em float\n",
    "orc1=input('Informe o valor do orçamento da empresa 1: ')\n",
    "orc2=input('Informe o valor do orçamento da empresa 2: ')\n",
    "orc3=input('Informe o valor do orçamento da empresa 3: ')\n",
    "\n",
    "orc1=float(orc1)\n",
    "orc2=float(orc2)\n",
    "orc3=float(orc3)\n",
    "\n",
    "maior_orc=0\n",
    "\n",
    "#por hora, pensei em comparar os valores assim. Depois vou verificar como foi feito no gabarito\n",
    "if orc1 > orc2 and orc1 > orc3:\n",
    "    maior_orc = orc1\n",
    "if orc2 > orc1 and orc2 > orc3:\n",
    "    maior_orc = orc2\n",
    "if orc3 > orc1 and orc3 > orc2:\n",
    "    maior_orc = orc3\n",
    "    \n",
    "print('O maior orçamento foi no valor de R${}'.format(maior_orc))"
   ]
  },
  {
   "cell_type": "markdown",
   "id": "ce09ed1c",
   "metadata": {
    "id": "ce09ed1c"
   },
   "source": [
    "#### 7. Faça um Programa que leia três orçamentos e mostre o maior e o menor deles."
   ]
  },
  {
   "cell_type": "code",
   "execution_count": 52,
   "id": "249f1eb8",
   "metadata": {
    "id": "249f1eb8"
   },
   "outputs": [
    {
     "name": "stdout",
     "output_type": "stream",
     "text": [
      "Informe o valor do orçamento da empresa 1: 1\n",
      "Informe o valor do orçamento da empresa 2: 2\n",
      "Informe o valor do orçamento da empresa 3: 3\n",
      "O maior orçamento foi no valor de R$3.0\n",
      "O menor orçamento foi no valor de R$1.0\n"
     ]
    }
   ],
   "source": [
    "#copiando a primeira parte do código da questão anterior\n",
    "#coletar valores e transformar em float\n",
    "orc1=input('Informe o valor do orçamento da empresa 1: ')\n",
    "orc2=input('Informe o valor do orçamento da empresa 2: ')\n",
    "orc3=input('Informe o valor do orçamento da empresa 3: ')\n",
    "\n",
    "orc1=float(orc1)\n",
    "orc2=float(orc2)\n",
    "orc3=float(orc3)\n",
    "\n",
    "maior_orc=0\n",
    "menor_orc=0\n",
    "\n",
    "#por hora, pensei em comparar os valores assim. Depois vou verificar como foi feito no gabarito\n",
    "if orc1 > orc2 and orc1 > orc3:\n",
    "    maior_orc = orc1\n",
    "if orc2 > orc1 and orc2 > orc3:\n",
    "    maior_orc = orc2\n",
    "if orc3 > orc1 and orc3 > orc2:\n",
    "    maior_orc = orc3\n",
    "    \n",
    "print('O maior orçamento foi no valor de R${}'.format(maior_orc))\n",
    "\n",
    "##para o cálculo do menor valor vou apenas mudar os sinais no bloco de código acima\n",
    "if orc1 < orc2 and orc1 < orc3:\n",
    "    menor_orc = orc1\n",
    "if orc2 < orc1 and orc2 < orc3:\n",
    "    menor_orc = orc2\n",
    "if orc3 < orc1 and orc3 < orc2:\n",
    "    menor_orc = orc3\n",
    "    \n",
    "print('O menor orçamento foi no valor de R${}'.format(menor_orc))"
   ]
  },
  {
   "cell_type": "markdown",
   "id": "7453d43a",
   "metadata": {
    "id": "7453d43a"
   },
   "source": [
    "#### 8. Faça um programa que pergunte o preço de três produtos e informe qual produto você deve comprar, sabendo que a decisão é sempre pelo mais barato."
   ]
  },
  {
   "cell_type": "code",
   "execution_count": 51,
   "id": "26a9503e",
   "metadata": {
    "id": "26a9503e"
   },
   "outputs": [
    {
     "name": "stdout",
     "output_type": "stream",
     "text": [
      "Informe o valor do produto 1: 1\n",
      "Informe o valor do produto 2: 2\n",
      "Informe o valor do produto 3: 3\n",
      "\n",
      "Compre o produto 1, ele é o mais barato\n"
     ]
    }
   ],
   "source": [
    "#coletar valores e transformar em float\n",
    "valor1 = input('Informe o valor do produto 1: ')\n",
    "valor2 = input('Informe o valor do produto 2: ')\n",
    "valor3 = input('Informe o valor do produto 3: ')\n",
    "\n",
    "valor1 = float(valor1)\n",
    "valor2 = float(valor2)\n",
    "valor3 = float(valor3)\n",
    "print('')\n",
    "\n",
    "#Calcular valor e dar print logo, para simplificar (eu acho)\n",
    "if valor1 < valor2 and valor1 < valor3:\n",
    "    print('Compre o produto 1, ele é o mais barato')\n",
    "if valor2 < valor1 and valor2 < valor3:\n",
    "    print('Compre o produto 2, ele é o mais barato')\n",
    "if valor3 < valor2 and valor3 < valor1:\n",
    "    print('Compre o produto 3, ele é o mais barato')\n",
    "    "
   ]
  },
  {
   "cell_type": "markdown",
   "id": "9ade258f",
   "metadata": {
    "id": "9ade258f"
   },
   "source": [
    "#### 9. Faça um Programa que leia três números e mostre-os em ordem decrescente."
   ]
  },
  {
   "cell_type": "code",
   "execution_count": 60,
   "id": "f194c39e",
   "metadata": {
    "id": "f194c39e"
   },
   "outputs": [
    {
     "name": "stdout",
     "output_type": "stream",
     "text": [
      "informe o primeiro número: 101\n",
      "informe o segundo número: 102\n",
      "informe o terceiro número: 0\n",
      "102 101 0\n"
     ]
    }
   ],
   "source": [
    "#Acho que este vai ser um pouco mais difícil, mas vamos lá\n",
    "#coleta e deixar em inteiros, pra facilitar minha leitura a posterior\n",
    "n1=input('informe o primeiro número: ')\n",
    "n2=input('informe o segundo número: ')\n",
    "n3=input('informe o terceiro número: ')\n",
    "\n",
    "n1=int(n1)\n",
    "n2=int(n2)\n",
    "n3=int(n3)\n",
    "\n",
    "#vou criar essas variáveis que vão guardar as posições, e sempre imprimi-las numa ordem fixa\n",
    "maior=0\n",
    "meio=0\n",
    "menor=0\n",
    "\n",
    "#Acredito que esta é uma forma de fazer\n",
    "if n1 > n2 and n1 > n3:\n",
    "    maior = n1\n",
    "    if n2 > n3:\n",
    "        meio = n2\n",
    "        menor = n3\n",
    "    else: \n",
    "        meio = n3\n",
    "        menor = n2\n",
    "\n",
    "#vou precisar repetir o bloco acima outras 2 vezes, não sei se isto está otimizado, provavelmente não       \n",
    "if n2 > n1 and n2 > n3:\n",
    "    maior = n2\n",
    "    if n1 > n3:\n",
    "        meio = n1\n",
    "        menor = n3\n",
    "    else: \n",
    "        meio = n3\n",
    "        menor = n1\n",
    "        \n",
    "if n3 > n2 and n3 > n1:\n",
    "    maior = n3\n",
    "    if n2 > n1:\n",
    "        meio = n2\n",
    "        menor = n1\n",
    "    else: \n",
    "        meio = n1\n",
    "        menor = n2\n",
    "\n",
    "#print em ordem decrescente\n",
    "print(maior, meio, menor)"
   ]
  },
  {
   "cell_type": "markdown",
   "id": "d06e2fe8",
   "metadata": {
    "id": "d06e2fe8"
   },
   "source": [
    "#### 10. Faça um Programa que pergunte em que turno você estuda. Peça para digitar M-matutino ou V-Vespertino ou N- Noturno. Imprima a mensagem \"Bom Dia!\", \"Boa Tarde!\" ou \"Boa Noite!\" ou \"Valor Inválido!\", conforme o caso."
   ]
  },
  {
   "cell_type": "code",
   "execution_count": 69,
   "id": "1eb36141",
   "metadata": {
    "id": "1eb36141"
   },
   "outputs": [
    {
     "name": "stdout",
     "output_type": "stream",
     "text": [
      "Informe seu turno digitando: \n",
      "M-matutino ou V-Vespertino ou N- Noturno: N\n",
      "Boa noite\n",
      "2023-01-19 16:13:42.225065\n"
     ]
    }
   ],
   "source": [
    "#Esta lista é imensa, a esta altura já estou me sentindo um tanto cansado, vou dar uma pausa para caminhar\n",
    "turno=input('Informe seu turno digitando: \\nM-matutino ou V-Vespertino ou N- Noturno: ')\n",
    "\n",
    "#MODO CABEÇÃO ATIVADO\n",
    "if turno == 'M':\n",
    "    print('Bom dia')\n",
    "elif turno == 'V':\n",
    "    print('Boa tarde')\n",
    "else:\n",
    "    print('Boa noite')\n",
    "    \n",
    "#Vai servir, desde que não façam inputs falhos... acredito que possa ser um bom treino revisitar essa tarefa com mais saber\n",
    "#Esta brincadeirinha aqui é só pra deixar registrado a hora da execução final deste bloco de código. Peguei do google\n",
    "#E o por quê? Porque sim! Oras\n",
    "from datetime import datetime\n",
    "print(datetime.now())"
   ]
  },
  {
   "cell_type": "markdown",
   "id": "4864b755",
   "metadata": {
    "id": "4864b755"
   },
   "source": [
    "#### 11. As Organizações Tabajara resolveram dar um aumento de salário aos seus colaboradores e lhe contraram para desenvolver o programa que calculará os reajustes. Faça um programa que recebe o salário de um colaborador e o reajuste segundo o seguinte critério, baseado no salário atual:\n",
    "\n",
    "##### salários até R\\\\$ 280,00 (incluindo) : aumento de 20% \n",
    "\n",
    "##### salários entre R\\\\$ 280,00 e R\\\\$ 700,00 : aumento de 15% \n",
    "\n",
    "##### salários entre R\\\\$ 700,00 e R\\\\$ 1500,00 : aumento de 10% \n",
    "\n",
    "##### salários de R\\\\$ 1500,00 em diante : aumento de 5% Após o aumento ser realizado, informe na tela: \n",
    "\n",
    "###### o salário antes do reajuste;\n",
    "\n",
    "###### o percentual de aumento aplicado;\n",
    "\n",
    "###### o valor do aumento;\n",
    "\n",
    "###### o novo salário, após o aumento.\n",
    "\n",
    "###### Obs: Não vamos nos preocupar tanto com a formatação dos números (nº de casas decimais, por exemplo, veremos isso no próximo módulo)"
   ]
  },
  {
   "cell_type": "code",
   "execution_count": 77,
   "id": "f0d34916",
   "metadata": {
    "id": "f0d34916"
   },
   "outputs": [
    {
     "name": "stdout",
     "output_type": "stream",
     "text": [
      "Informe o seu salário atual: 200\n",
      "o seu salário antes do ajuste era no valor de 200.0 reais\n",
      "O percentual de aumento aplicado foi de 20.0%\n",
      "O valor do aumento corresponde a 40.0 reais\n",
      "O novo salário, após o aumento, corresponde a 240.0 reais\n"
     ]
    }
   ],
   "source": [
    "#entrada de informação do salário e transformação em float\n",
    "salario = input('Informe o seu salário atual: ')\n",
    "salario = float(salario)\n",
    "\n",
    "#calculo dos reajustes de acordo com as condições dadas pela empresa\n",
    "if salario <= 280:\n",
    "    aumento = 0.2\n",
    "elif salario > 280 and salario < 700:\n",
    "    aumento = 0.15\n",
    "elif salario >  700 and salario < 1500:\n",
    "    aumento = 0.1\n",
    "else:\n",
    "    aumento = 0.05\n",
    "\n",
    "#Trabalhar um pouco as informações e exibi-las\n",
    "print('o seu salário antes do ajuste era no valor de {} reais'.format(salario))\n",
    "print('O percentual de aumento aplicado foi de {}%'.format(aumento*100))\n",
    "print('O valor do aumento corresponde a {} reais'.format(salario*aumento))\n",
    "print('O novo salário, após o aumento, corresponde a {} reais'.format(salario+salario*aumento))"
   ]
  },
  {
   "cell_type": "markdown",
   "id": "b037f1e8",
   "metadata": {
    "id": "b037f1e8"
   },
   "source": [
    "#### 12 . Faça um programa para o cálculo de uma folha de pagamento, sabendo que os descontos são do Imposto de Renda, que depende do salário bruto (conforme tabela abaixo) e 3% para o Sindicato e que o FGTS corresponde a 11% do Salário Bruto, mas não é descontado (é a empresa que deposita). O Salário Líquido corresponde ao Salário Bruto menos os descontos. O programa deverá pedir ao usuário o valor da sua hora e a quantidade de horas trabalhadas no mês.\n",
    "\n",
    "Desconto do IR:<br>\n",
    "Salário Bruto até 900 (inclusive) - isento<br>\n",
    "Salário Bruto até 1500 (inclusive) - desconto de 5%<br>\n",
    "Salário Bruto até 2500 (inclusive) - desconto de 10%<br>\n",
    "Salário Bruto acima de 2500 - desconto de 20%<br>\n",
    "Imprima na tela as informações, dispostas conforme o exemplo abaixo. No exemplo o valor da hora é 5 e a quantidade de hora é 220.\n",
    "\n",
    "Salário Bruto: (5 * 220)        : R\\\\$ 1100,00<br>\n",
    "(-) IR (5%)                     : R\\\\$   55,00<br>\n",
    "(-) INSS ( 10%)                 : R\\\\$  110,00<br>\n",
    "FGTS (11%)                      : R\\\\$  121,00<br>\n",
    "Total de descontos              : R\\\\$  165,00<br>\n",
    "Salário Liquido                 : R\\\\$  935,00<br>\n",
    "\n",
    "###### Obs: Não vamos nos preocupar tanto com a formatação dos números (nº de casas decimais, por exemplo, veremos isso no próximo módulo)"
   ]
  },
  {
   "cell_type": "code",
   "execution_count": 88,
   "id": "dad18bb2",
   "metadata": {
    "id": "dad18bb2"
   },
   "outputs": [
    {
     "name": "stdout",
     "output_type": "stream",
     "text": [
      "Informe o valor, em reais, de cada hora trabalhada: 5\n",
      "Informe a quantidade de horas mensalmente: 220\n",
      "O valor do seu salário bruto corresponde a R$1100.0\n",
      "(-) IR(5.0%): 55.0\n",
      "(-) Sindicato (3%): 33.0\n",
      "FGTS (11%): 121.0\n",
      "Total de descontos: R$88.0\n",
      "Salário líquido: R$1012.0\n"
     ]
    }
   ],
   "source": [
    "#Coleta das informações do usuário\n",
    "valor_hora = input('Informe o valor, em reais, de cada hora trabalhada: ')\n",
    "qtd_horas = input('Informe a quantidade de horas mensalmente: ')\n",
    "\n",
    "valor_hora = float(valor_hora)\n",
    "qtd_horas = float(qtd_horas)\n",
    "\n",
    "#com estas informações é possível calcular o salário bruto, que servirá de base para o cálculo das taxas incidentes.\n",
    "salario_bruto = valor_hora * qtd_horas\n",
    "\n",
    "#vamos as taxas\n",
    "#IR irá variar de acordo com uma tabela\n",
    "if salario_bruto <= 900:\n",
    "    IR = 0\n",
    "elif salario_bruto <= 1500 and salario_bruto > 900:\n",
    "    IR = 0.05\n",
    "elif salario_bruto <= 2500 and salario_bruto > 1500:\n",
    "    IR = 0.1\n",
    "else:\n",
    "    IR = 0.2\n",
    "    \n",
    "#para o restante das taxas é fácil.\n",
    "#Na questão ele fala em sindicato (t=3%), mas no exemplo ele usa o INSS (t=10%). Vou usar aqui a taxa sindical\n",
    "sindicato = 0.03\n",
    "fgts = 0.11\n",
    "\n",
    "#informação serão impressas segundo molde fornecido pela empresa\n",
    "print('O valor do seu salário bruto corresponde a R${}'.format(salario_bruto))\n",
    "print('(-) IR({}%): {}'.format(IR*100,IR*salario_bruto))\n",
    "print('(-) Sindicato (3%): {}'.format(sindicato*salario_bruto))\n",
    "print('FGTS (11%): {}'.format(fgts*salario_bruto))\n",
    "print('Total de descontos: R${}'.format(salario_bruto*IR+salario_bruto*sindicato))\n",
    "print('Salário líquido: R${}'.format(salario_bruto-(salario_bruto*IR+salario_bruto*sindicato)))\n",
    "\n",
    "#Acredito que a forma como escrevi não é das melhores, mas obtive o resultado esperado"
   ]
  },
  {
   "cell_type": "markdown",
   "id": "814fc211",
   "metadata": {
    "id": "814fc211"
   },
   "source": [
    "#### 13. Faça um Programa que leia um número e exiba o dia correspondente da semana. (1-Domingo, 2- Segunda, etc.), se digitar outro valor deve aparecer valor inválido."
   ]
  },
  {
   "cell_type": "code",
   "execution_count": 97,
   "id": "f2c2b8d8",
   "metadata": {
    "id": "f2c2b8d8"
   },
   "outputs": [
    {
     "name": "stdout",
     "output_type": "stream",
     "text": [
      "Informe um número de 1 a 7: 7\n",
      "Sábado\n"
     ]
    }
   ],
   "source": [
    "#Coletar e tratar a informação do usuário\n",
    "num_dia = input('Informe um número de 1 a 7: ')\n",
    "num_dia = int(num_dia)\n",
    "\n",
    "#condicionais para corresponder ao dia da semana dentro de um if que já garante a validade\n",
    "if num_dia > 0 and num_dia < 8:\n",
    "    if num_dia == 1:\n",
    "        print('Domingo')\n",
    "    if num_dia == 2:\n",
    "        print('Segunda')\n",
    "    if num_dia == 3:\n",
    "        print('Terça')\n",
    "    if num_dia == 4:\n",
    "        print('Quarta')\n",
    "    if num_dia == 5:\n",
    "        print ('Quinta')\n",
    "    if num_dia == 6:\n",
    "        print('Sexta')\n",
    "    if num_dia == 7:\n",
    "        print('Sábado')\n",
    "else:\n",
    "    print('Valor inválido!')\n",
    "    \n"
   ]
  },
  {
   "cell_type": "markdown",
   "id": "6e5f461e",
   "metadata": {
    "id": "6e5f461e"
   },
   "source": [
    "#### 14. Faça um programa que lê as duas notas parciais obtidas por um aluno numa disciplina ao longo de um semestre, e calcule a sua média. Em seguida, mostre qual conceito o aluno teve. A atribuição de conceitos obedece à tabela abaixo:\n",
    "<pre>\n",
    "Média de Aproveitamento  Conceito\n",
    "Entre 9.0 e 10.0        A\n",
    "Entre 7.5 e 9.0         B\n",
    "Entre 6.0 e 7.5         C\n",
    "Entre 4.0 e 6.0         D\n",
    "Entre 4.0 e zero        E\n",
    "</pre>"
   ]
  },
  {
   "cell_type": "code",
   "execution_count": 105,
   "id": "29721a43",
   "metadata": {
    "id": "29721a43"
   },
   "outputs": [
    {
     "name": "stdout",
     "output_type": "stream",
     "text": [
      "Informe a primeira nota obtida no semestre: 9\n",
      "Informe a segunda nota obtida no semestre: 8\n",
      "A média obtida no semestre foi 8.5\n",
      "O conceito obtido no semestre foi B\n"
     ]
    }
   ],
   "source": [
    "#coletar e tratar quais são as duas notas obtidas no semestre\n",
    "primeira_nota_semestre = input('Informe a primeira nota obtida no semestre: ')\n",
    "segunda_nota_semestre = input('Informe a segunda nota obtida no semestre: ')\n",
    "\n",
    "primeira_nota_semestre = float(primeira_nota_semestre)\n",
    "segunda_nota_semestre = float(segunda_nota_semestre)\n",
    "\n",
    "#calcular a média\n",
    "media_semestral = (primeira_nota_semestre + segunda_nota_semestre) / 2\n",
    "\n",
    "#Agora calcular o conceito com base nas condicionais \n",
    "if media_semestral <= 10 and media_semestral > 9:\n",
    "    conceito_semestral = 'A'\n",
    "elif media_semestral <= 9 and media_semestral > 7.5:\n",
    "    conceito_semestral = 'B'\n",
    "elif media_semestral <= 7.5 and media_semestral > 6:\n",
    "    conceito_semestral = 'C'\n",
    "elif media_semestral <= 6 and media_semestral > 4:\n",
    "    conceito_semestral = 'D'\n",
    "else:\n",
    "    conceito_semestral = 'E'\n",
    "\n",
    "#Print das informações extraídas no programa\n",
    "print('A média obtida no semestre foi {}'.format(media_semestral))\n",
    "print('O conceito obtido no semestre foi {}'.format(conceito_semestral))"
   ]
  },
  {
   "cell_type": "markdown",
   "id": "e6b3bcaf",
   "metadata": {
    "id": "e6b3bcaf"
   },
   "source": [
    "#### 15. Você está construindo um calendário para controlar dias de trabalho a pedido do RH. Nessa construção, você vai precisar definir quais anos são bissextos e quais não são, para montar o calendário de forma correta. Faça um Programa que peça um número correspondente a um determinado ano e em seguida informe se este ano é ou não bissexto.\n",
    "<pre>\n",
    "Dica para determinar se um ano é bissexto: \n",
    "- São bissextos todos os anos múltiplos de 400, p.ex.: 1600, 2000, 2400, 2800...\n",
    "- São bissextos todos os múltiplos de 4, exceto se for múltiplo de 100 mas não de 400, \n",
    "p.ex.: 1996, 2000, 2004, 2008, 2012, 2016, 2020, 2024, 2028...\n",
    "- Não são bissextos todos os demais anos.<br>\n",
    "ex1: 2004 é múltiplo de 4, mas não é múltiplo de 100, então é bissexto.\n",
    "ex2: 2000 é múltiplo de 4, mas é múltiplo de 100, só que também é multiplo de 400, então é bissexto (porque todo ano múltiplo de 400 é bissexto, independente do resto).\n",
    "ex3: 1900 é múltiplo de 4, é múltiplo de 100, mas não é múltiplo de 400, então não é bissexto\n",
    "\n",
    "</pre>\n",
    "\n",
    "Dica: lembre que: numero % 4 é o resto da divisão do número por 4, ex: 10 % 3 = 1 (já que 10/3 = 3 e resta 1)"
   ]
  },
  {
   "cell_type": "code",
   "execution_count": 131,
   "id": "56af223f",
   "metadata": {
    "id": "56af223f",
    "scrolled": true
   },
   "outputs": [
    {
     "name": "stdout",
     "output_type": "stream",
     "text": [
      "Informe o ano a ser analisado: 2400\n",
      " é bissexto \n"
     ]
    }
   ],
   "source": [
    "#pedir o ano e transformar em um inteiro\n",
    "ano=input('Informe o ano a ser analisado: ')\n",
    "ano=int(ano)\n",
    "\n",
    "analise_bissexto=''\n",
    "\n",
    "#analisar\n",
    "if ano % 400 == 0:\n",
    "    analise_bissexto =''\n",
    "else:\n",
    "    if ano % 4 == 0 and ano % 100 !=0:\n",
    "        pass\n",
    "    else:\n",
    "        analise_bissexto ='Não'\n",
    "        \n",
    "\n",
    "#imprimir se é ou não bissexto\n",
    "print(f'{analise_bissexto} é bissexto ')\n",
    "\n",
    "#achei legal essa solução para usar um print só para a questão :)"
   ]
  },
  {
   "cell_type": "markdown",
   "id": "9fe532c8",
   "metadata": {
    "id": "9fe532c8"
   },
   "source": [
    "#### 16. Faça um Programa para leitura de três notas parciais de um aluno. O programa deve calcular a média alcançada por aluno e presentar:\n",
    "<pre>\n",
    "A mensagem \"Aprovado\", se a média for maior ou igual a 7, com a respectiva média alcançada;\n",
    "A mensagem \"Reprovado\", se a média for menor do que 7, com a respectiva média alcançada;\n",
    "A mensagem \"Aprovado com Distinção\", se a média for igual a 10.\n",
    "</pre>"
   ]
  },
  {
   "cell_type": "code",
   "execution_count": 125,
   "id": "1a56e99f",
   "metadata": {
    "id": "1a56e99f"
   },
   "outputs": [
    {
     "name": "stdout",
     "output_type": "stream",
     "text": [
      "Informe a primeira nota parcial: 7\n",
      "Informe a segundaa nota parcial: 7\n",
      "Informe a terceira nota parcial: 7\n",
      "\n",
      "A média obtida foi de 7.0 pontos.\n",
      "Aprovado\n"
     ]
    }
   ],
   "source": [
    "#primeiro coletar as notas parciais e converter em floar, para poder operar com elas\n",
    "nota_parcial1 = input('Informe a primeira nota parcial: ')\n",
    "nota_parcial2 = input('Informe a segundaa nota parcial: ')\n",
    "nota_parcial3 = input('Informe a terceira nota parcial: ')\n",
    "\n",
    "nota_parcial1 = float(nota_parcial1)\n",
    "nota_parcial2 = float(nota_parcial2)\n",
    "nota_parcial3 = float(nota_parcial3)\n",
    "\n",
    "print('')\n",
    "\n",
    "#calcular a média\n",
    "media_parciais = (nota_parcial1 + nota_parcial2 + nota_parcial3) / 3\n",
    "\n",
    "print(f'A média obtida foi de {media_parciais} pontos.')\n",
    "\n",
    "#classificar a média obtida e imprimir situação do aluno\n",
    "if media_parciais >= 10:\n",
    "    print('Aprovado com distinção')\n",
    "elif media_parciais < 7:\n",
    "    print('Reprovado')\n",
    "else:\n",
    "    print('Aprovado')\n",
    "    \n",
    "#Observando este bloco com um erro que eu cometi  mais cedo:\n",
    "#if media_parciais >= 10:\n",
    "#    print('Aprovado com distinção')\n",
    "#if media_parciais < 7:                ----> Esta linha causa problema como está, pq desligado o primeito if do else!!!\n",
    "#    print('Reprovado')\n",
    "#else:\n",
    "#    print('Aprovado')"
   ]
  },
  {
   "cell_type": "markdown",
   "id": "d544412e",
   "metadata": {
    "id": "d544412e"
   },
   "source": [
    "#### 17. João Papo-de-Pescador, homem de bem, comprou um microcomputador para controlar o rendimento diário de seu trabalho. Toda vez que ele traz um peso de peixes maior que o estabelecido pelo regulamento de pesca do estado de São Paulo (50 quilos) deve pagar uma multa de R$ 4,00 por quilo excedente. João precisa que você faça um programa que leia a variável peso (peso de peixes) e calcule o excesso. Gravar na variável excesso a quantidade de quilos além do limite e na variável multa o valor da multa que João deverá pagar. Imprima os dados do programa com as mensagens adequadas."
   ]
  },
  {
   "cell_type": "code",
   "execution_count": 6,
   "id": "971ed027",
   "metadata": {
    "id": "971ed027"
   },
   "outputs": [
    {
     "name": "stdout",
     "output_type": "stream",
     "text": [
      "informe o peso do peixe :60\n",
      "10.0Kg de excesso\n",
      "R$40.0 de multa\n"
     ]
    }
   ],
   "source": [
    "#primeiro pegar o peso do peixe e deixar algumas variáveis definidas\n",
    "peso_peixe = input('informe o peso do peixe :')\n",
    "peso_peixe = float(peso_peixe)\n",
    "excesso = 0\n",
    "multa = 0\n",
    "\n",
    "#usar esta concidicional para atribuir valores em caso de excesso\n",
    "if peso_peixe > 50:\n",
    "    excesso = peso_peixe - 50\n",
    "    multa = excesso * 4\n",
    "\n",
    "#imprimir resultados    \n",
    "print(f'{excesso}Kg de excesso')\n",
    "print(f'R${multa} de multa')"
   ]
  },
  {
   "cell_type": "markdown",
   "id": "0e5256e0",
   "metadata": {
    "id": "0e5256e0"
   },
   "source": [
    "#### 18. Faça um Programa para um caixa eletrônico. O programa deverá perguntar ao usuário a valor do saque e depois informar quantas notas de cada valor serão fornecidas. As notas disponíveis serão as de 1, 5, 10, 50 e 100 reais. O valor mínimo é de 10 reais e o máximo de 600 reais. O programa não deve se preocupar com a quantidade de notas existentes na máquina.\n",
    "<pre>\n",
    "Exemplo 1: Para sacar a quantia de 256 reais, o programa fornece duas notas de 100, uma nota de 50, uma nota de 5 e uma nota de 1;\n",
    "Exemplo 2: Para sacar a quantia de 399 reais, o programa fornece três notas de 100, uma nota de 50, quatro notas de 10, uma nota de 5 e quatro notas de 1.\n",
    "</pre>\n",
    "\n",
    "Dica1: numero // 10 vai te dar como resposta a parte inteira da divisão do número por 10.<br>\n",
    "Dica2: numero % 10 vai te dar o resto da divisão do número por 10."
   ]
  },
  {
   "cell_type": "code",
   "execution_count": 21,
   "id": "9b4244c7",
   "metadata": {
    "id": "9b4244c7"
   },
   "outputs": [
    {
     "name": "stdout",
     "output_type": "stream",
     "text": [
      "Informe o valor a ser sacado (inteiros entre 10 e 600 reais): 900\n",
      "Informe um valor válido entre 10 e 600 reais\n"
     ]
    }
   ],
   "source": [
    "#curioso, não lembro de ter visto este operador '//' até agora no curso\n",
    "#como sempre, começamos pegando o input do usuário\n",
    "valor_saque=input('Informe o valor a ser sacado (inteiros entre 10 e 600 reais): ')\n",
    "valor_saque=int(valor_saque)\n",
    "\n",
    "#já começamos olhando a validade do saque e printar a quantidade de células\n",
    "if valor_saque > 600 or valor_saque < 10:\n",
    "    print('Informe um valor válido entre 10 e 600 reais')\n",
    "else:\n",
    "    div_exata1 = valor_saque // 100\n",
    "    resto1 = valor_saque % 100\n",
    "    print(f'{div_exata1} notas de R$100')\n",
    "    if resto1 > 0:\n",
    "        div_exata2 = resto1 // 50\n",
    "        resto2 = resto1 % 50\n",
    "        print(f'{div_exata2} notas de R$50')\n",
    "    if resto2 > 0:\n",
    "        div_exata3 = resto2 // 10\n",
    "        resto3 = resto2 % 10\n",
    "        print(f'{div_exata3} notas de R$10')\n",
    "    if resto3 > 0:\n",
    "        div_exata4 = resto3 // 5\n",
    "        resto4 = resto3 % 5\n",
    "        print(f'{div_exata4} notas de R$5')\n",
    "    if resto4 > 0:\n",
    "        div_exata5 = resto4 // 1\n",
    "        print(f'{div_exata5} notas de R$1')\n",
    "        "
   ]
  },
  {
   "cell_type": "markdown",
   "id": "cba47494",
   "metadata": {
    "id": "cba47494"
   },
   "source": [
    "#### 19. Faça um programa que faça 5 perguntas para uma pessoa sobre um crime. As perguntas são:\n",
    "<pre>\n",
    "\"Telefonou para a vítima?\"\n",
    "\"Esteve no local do crime?\"\n",
    "\"Mora perto da vítima?\"\n",
    "\"Devia para a vítima?\"\n",
    "\"Já trabalhou com a vítima?\" \n",
    "O programa deve no final emitir uma classificação sobre a participação da pessoa no crime. Se a pessoa responder positivamente a 2 questões ela deve ser classificada como \"Suspeita\", entre 3 e 4 como \"Cúmplice\" e 5 como \"Assassino\". Caso contrário, ele será classificado como \"Inocente\".\n",
    "</pre>"
   ]
  },
  {
   "cell_type": "code",
   "execution_count": 29,
   "id": "5fdf9b88",
   "metadata": {
    "id": "5fdf9b88"
   },
   "outputs": [
    {
     "name": "stdout",
     "output_type": "stream",
     "text": [
      "Telefonou para a vítima? S/N S\n",
      "Esteve no local do crime? S/N S\n",
      "Mora perto da vítima? S/N S\n",
      "Devia para a vítima? S/N S\n",
      "Já trabalhou com a vítima? S/N S\n",
      "5\n",
      "assassino\n"
     ]
    }
   ],
   "source": [
    "#Este parece ser divertido, acredito que vou precisar criar um sistema de escore\n",
    "#começamos com as perguntas\n",
    "pergunta1 = input('Telefonou para a vítima? S/N ')\n",
    "pergunta2 = input('Esteve no local do crime? S/N ')\n",
    "pergunta3 = input('Mora perto da vítima? S/N ')\n",
    "pergunta4 = input('Devia para a vítima? S/N ')\n",
    "pergunta5 = input('Já trabalhou com a vítima? S/N ')\n",
    "\n",
    "#Acumulando pontos de acordo com as respostas dadas\n",
    "score = 0\n",
    "if pergunta1 == 'S':\n",
    "    score=score+1\n",
    "if pergunta2 == 'S':\n",
    "    score=score+1\n",
    "if pergunta3 == 'S':\n",
    "    score=score+1\n",
    "if pergunta4 == 'S':\n",
    "    score=score+1\n",
    "if pergunta5 == 'S':\n",
    "    score=score+1\n",
    "\n",
    "#agora vamos avaliar o status do tratante    \n",
    "status=''\n",
    "if score <= 2 and score > 0:\n",
    "    status='suspeita'\n",
    "if score > 2 and score <= 4:\n",
    "    status='cumplice'\n",
    "if score == 5:\n",
    "    status='assassino'\n",
    "print(status)"
   ]
  },
  {
   "cell_type": "markdown",
   "id": "18901e98",
   "metadata": {
    "id": "18901e98"
   },
   "source": [
    "#### 20. Um posto está vendendo combustíveis com a seguinte tabela de descontos:\n",
    "<pre>\n",
    "Álcool:\n",
    "até 20 litros, desconto de 3% por litro\n",
    "acima de 20 litros, desconto de 5% por litro\n",
    "Gasolina:\n",
    "até 20 litros, desconto de 4% por litro\n",
    "acima de 20 litros, desconto de 6% por litro\n",
    "\n",
    "Escreva um algoritmo que leia o número de litros vendidos, o tipo de combustível (codificado da seguinte forma: A-álcool, G-gasolina), calcule e imprima o valor a ser pago pelo cliente sabendo-se que o preço do litro da gasolina é R$ 2,50 o preço do litro do álcool é R$ 1,90.\n",
    "</pre>"
   ]
  },
  {
   "cell_type": "code",
   "execution_count": 37,
   "id": "a1fd8c38",
   "metadata": {
    "id": "a1fd8c38"
   },
   "outputs": [
    {
     "name": "stdout",
     "output_type": "stream",
     "text": [
      "Informe que tipo de combustivel foi adquirido \n",
      "A-álcool, G-gasolina: A\n",
      "Informe a quantidade de combustível adquirida: 100\n",
      "Custo sem descontos: R$190.0\n",
      "Desconto por litro aplicado foi de 5.0%\n",
      "Desconto total foi de R$9.5\n",
      "Valor a ser pago é de R$180.5\n"
     ]
    }
   ],
   "source": [
    "#Este me pareceu curioso, vamos começar pegando a quantidade e o tipo de combustivel\n",
    "tipo_combustivel = input('Informe que tipo de combustivel foi adquirido \\nA-álcool, G-gasolina: ')\n",
    "qtde_combustivel = input('Informe a quantidade de combustível adquirida: ')\n",
    "\n",
    "qtde_combustivel = float(qtde_combustivel)\n",
    "custo_gasolina = 2.5\n",
    "custo_alcool = 1.9\n",
    "#Vamos usar condicionais para saber que tipo de combustivel foi comprado\n",
    "if tipo_combustivel == 'A':\n",
    "    custo_tipo = custo_alcool\n",
    "    #e agora ver quais condições de desconto se aplicam\n",
    "    if qtde_combustivel <= 20:\n",
    "        desconto_por_litro = 0.03\n",
    "    else:\n",
    "        desconto_por_litro = 0.05\n",
    "else:\n",
    "    custo_tipo = custo_gasolina\n",
    "    if qtde_combustivel <= 20:\n",
    "        desconto_por_litro = 0.04\n",
    "    else:\n",
    "        desconto_por_litro = 0.06\n",
    "        \n",
    "#vamos aos valores\n",
    "desconto_total = (desconto_por_litro * custo_tipo) * qtde_combustivel\n",
    "valor_final = (qtde_combustivel * custo_tipo) - desconto_total\n",
    "print('Custo sem descontos: R${}'.format(qtde_combustivel * custo_tipo))\n",
    "print('Desconto por litro aplicado foi de {}%'.format(desconto_por_litro * 100))\n",
    "print('Desconto total foi de R${}'.format(desconto_total))\n",
    "print('Valor a ser pago é de R${}'.format(valor_final))\n",
    "\n",
    "#conferindo o gabarito, veja como o código do professor é muito mais simples!\n",
    "\n",
    "#tipo = input('Informe o tipo de combustível: ')\n",
    "#quantidade = float(input('Informe a quantidade de combustível: '))\n",
    "\n",
    "#if tipo == 'A' and quantidade <= 20:\n",
    "#    total = (1.9 * quantidade) * 0.97\n",
    "#elif tipo == 'A' and quantidade > 20:\n",
    "#    total = (1.9 * quantidade) * 0.95\n",
    "#elif tipo == 'G' and quantidade <= 20:\n",
    "#    total = (2.5 * quantidade) * 0.96\n",
    "#elif tipo == 'G' and quantidade > 20:\n",
    "#    total = (2.5 * quantidade) * 0.94\n",
    "\n",
    "#print('Total a pagar: R$', total)"
   ]
  },
  {
   "cell_type": "markdown",
   "id": "be0f8f32",
   "metadata": {
    "id": "be0f8f32"
   },
   "source": [
    "#### 21. Uma fruteira está vendendo frutas com a seguinte tabela de preços:\n",
    "<pre>\n",
    "                      Até 5 Kg           Acima de 5 Kg\n",
    "Morango         R$ 2,50 por Kg          R$ 2,20 por Kg\n",
    "Maçã            R$ 1,80 por Kg          R$ 1,50 por Kg\n",
    "Se o cliente comprar mais de 8 Kg em frutas ou o valor total da compra ultrapassar R$ 25,00, receberá ainda um desconto de 10% sobre este total. Escreva um algoritmo para ler a quantidade (em Kg) de morangos e a quantidade (em Kg) de maças adquiridas e escreva o valor a ser pago pelo cliente.\n",
    "</pre>"
   ]
  },
  {
   "cell_type": "code",
   "execution_count": 40,
   "id": "35c47c8e",
   "metadata": {
    "id": "35c47c8e"
   },
   "outputs": [
    {
     "name": "stdout",
     "output_type": "stream",
     "text": [
      "Quantos Kg de morango? 4\n",
      "Quantos Kg de maçã? 4\n",
      "Valor a ser pago é de R$17.2\n"
     ]
    }
   ],
   "source": [
    "#algo na linha da questão anterior, só que mais complexa. Vamos começar pelo princípio\n",
    "peso_morango = input('Quantos Kg de morango? ')\n",
    "peso_maca = input('Quantos Kg de maçã? ')\n",
    "\n",
    "peso_morango=float(peso_morango)\n",
    "peso_maca=float(peso_maca)\n",
    "\n",
    "#O custo de cada uma das frutas vai depender de quantos kg são adquiridos.\n",
    "if peso_morango > 5:\n",
    "    custo_morango = 2.2\n",
    "else:\n",
    "    custo_morango = 2.5\n",
    "    \n",
    "if peso_maca > 5:\n",
    "    custo_maca = 1.5\n",
    "else:\n",
    "    custo_maca = 1.8\n",
    "\n",
    "#trabalhando o custo\n",
    "total = peso_morango * custo_morango + peso_maca * custo_maca\n",
    "\n",
    "#mas ainda há a possibilidade de desconto\n",
    "if total > 25 or (peso_maca + peso_morango) > 8:\n",
    "    total = total - ( 0.1 * total )\n",
    "\n",
    "#imprimindo o total\n",
    "print('Valor a ser pago é de R${}'.format(total))\n",
    "\n",
    "#conferindo o gabarito, mais uma vez, o método do professor pareceu ser mais direto. Temos praticamente\n",
    "#a mesma quantidade de linhas utilizadas"
   ]
  },
  {
   "cell_type": "markdown",
   "id": "4dbd53ed",
   "metadata": {
    "id": "4dbd53ed"
   },
   "source": [
    "#### 22. O Hipermercado Tabajara está com uma promoção de carnes que é imperdível. Confira:\n",
    "<pre>\n",
    "                      Até 5 Kg           Acima de 5 Kg\n",
    "File Duplo      R$ 4,90 por Kg          R$ 5,80 por Kg\n",
    "Alcatra         R$ 5,90 por Kg          R$ 6,80 por Kg\n",
    "Picanha         R$ 6,90 por Kg          R$ 7,80 por Kg\n",
    "Para atender a todos os clientes, cada cliente poderá levar apenas um dos tipos de carne da promoção, porém não há limites para a quantidade de carne por cliente. Se compra for feita no cartão Tabajara o cliente receberá ainda um desconto de 5% sobre o total da compra. Escreva um programa que peça o tipo e a quantidade de carne comprada pelo usuário e gere um cupom fiscal, contendo as informações da compra: tipo e quantidade de carne, preço total, tipo de pagamento, valor do desconto e valor a pagar.\n",
    "</pre>"
   ]
  },
  {
   "cell_type": "code",
   "execution_count": 7,
   "id": "15a77357",
   "metadata": {
    "id": "15a77357"
   },
   "outputs": [
    {
     "name": "stdout",
     "output_type": "stream",
     "text": [
      "Informe a inicial do tipo de carne escolhida:\n",
      "F - File Duplo   A - Alcatra   P - Picanha A\n",
      "Informe a quantidade de carne comprada: 15\n",
      "Usuário usa o nosso cartão? S/N S\n",
      "\n",
      "-----------CUPOM FISCAL-----------\n",
      "Forma de pagamento: Com cartão tabajara\n",
      "15.0Kg de Alcatra - total: R$96.89999999999999\n",
      "2023-01-19 22:45:01.187326\n"
     ]
    }
   ],
   "source": [
    "#já é quase 22:30 e depois de tantas questões meu cerébro já está começando a ficar liso\n",
    "#vamos lá, o cliente precisa informar o tipo e a quantidade de carne escolhida\n",
    "tipo_carne = input('Informe a inicial do tipo de carne escolhida:\\nF - File Duplo   A - Alcatra   P - Picanha ')\n",
    "qtde_carne = input('Informe a quantidade de carne comprada: ')\n",
    "qtde_carne = float(qtde_carne)\n",
    "avalia_cartao = input('Usuário usa o nosso cartão? S/N ')\n",
    "\n",
    "#mais uma vez, o preço vai depender do tipo e da quantidade escolhida. Vou tentar fazer com o estilo mais direto\n",
    "if tipo_carne == 'F' and qtde_carne <= 5:\n",
    "    total = qtde_carne * 4.9\n",
    "    tipo_carne = 'File Duplo'\n",
    "elif tipo_carne == 'F' and qtde_carne > 5:\n",
    "    total = qtde_carne * 5.8\n",
    "    tipo_carne = 'File Duplo'\n",
    "    \n",
    "elif tipo_carne == 'A' and qtde_carne <= 5:\n",
    "    total = qtde_carne * 5.9\n",
    "    tipo_carne = 'Alcatra'\n",
    "elif tipo_carne == 'A' and qtde_carne > 5:\n",
    "    total = qtde_carne * 6.8\n",
    "    tipo_carne = 'Alcatra'\n",
    "\n",
    "elif tipo_carne == 'P' and qtde_carne <= 5:\n",
    "    total = qtde_carne * 6.9\n",
    "    tipo_carne = 'Picanha'\n",
    "elif tipo_carne == 'P' and qtde_carne > 5:\n",
    "    total = qtde_carne * 7.8\n",
    "    tipo_carne = 'Picanha'\n",
    "\n",
    "    #agora vamos escrever o bendito cupom fiscal\n",
    "print('\\n-----------CUPOM FISCAL-----------')   \n",
    "\n",
    "if avalia_cartao == 'S':\n",
    "    total = total * 0.95\n",
    "    print('Forma de pagamento: Com cartão tabajara')\n",
    "else:\n",
    "    print('Forma de pagamento: Sem cartão tabajara')\n",
    "\n",
    "\n",
    "\n",
    "print('{}Kg de {} - total: R${}'.format(qtde_carne,tipo_carne,total))\n",
    "from datetime import datetime\n",
    "print(datetime.now())\n"
   ]
  },
  {
   "cell_type": "markdown",
   "id": "b949545b",
   "metadata": {
    "id": "b949545b"
   },
   "source": [
    "#### 23. Faça um Programa para uma loja de tintas. O programa deverá pedir o tamanho em metros quadrados da área a ser pintada. Considere que a cobertura da tinta é de 1 litro para cada 6 metros quadrados e que a tinta é vendida em latas de 18 litros, que custam R\\\\$ 80,00 ou em galões de 3,6 litros, que custam R\\\\$ 25,00."
   ]
  },
  {
   "cell_type": "code",
   "execution_count": 8,
   "id": "b11185b0",
   "metadata": {
    "id": "b11185b0"
   },
   "outputs": [
    {
     "name": "stdout",
     "output_type": "stream",
     "text": [
      "Informe o tamanho da área a ser pintada em m²: 100\n"
     ]
    }
   ],
   "source": [
    "#estranhamente, essass duas linhas de código já vieram junto à lista\n",
    "area = float(input('Informe o tamanho da área a ser pintada em m²: '))\n",
    "litros_tinta = area / 6"
   ]
  },
  {
   "cell_type": "markdown",
   "id": "b3d0598f",
   "metadata": {
    "id": "b3d0598f"
   },
   "source": [
    "##### Informe ao usuário as quantidades de tinta a serem compradas e os respectivos preços em 3 situações.\n",
    "\n",
    "Dica: lembre dos operadores // e % mostrados em exercícios anteriores<br>\n",
    "Dica1: numero // 10 vai te dar como resposta a parte inteira da divisão do número por 10.<br>\n",
    "Dica2: numero % 10 vai te dar o resto da divisão do número por 10.\n",
    "\n",
    "##### 1. Comprar apenas latas de 18 litros: (apenas latas inteiras)"
   ]
  },
  {
   "cell_type": "code",
   "execution_count": 21,
   "id": "ed599d53",
   "metadata": {
    "id": "ed599d53"
   },
   "outputs": [
    {
     "name": "stdout",
     "output_type": "stream",
     "text": [
      "Informe o tamanho da área a ser pintada em m²: 150\n",
      "2.0 latas de 18L, totalizando R$160.0 de custo\n"
     ]
    }
   ],
   "source": [
    "area = float(input('Informe o tamanho da área a ser pintada em m²: '))\n",
    "litros_tinta = area / 6\n",
    "\n",
    "if litros_tinta % 18 > 0:\n",
    "    latas_18 = litros_tinta // 18 + 1\n",
    "else:\n",
    "    latas_18 = litros_tinta // 18\n",
    "\n",
    "print('{} latas de 18L, totalizando R${} de custo'.format(latas_18, latas_18 * 80))\n",
    "\n",
    "#Precisei consultar o gabarito para tentar encontrar o furo no meu algoritmo\n",
    "#percebi que não estava considerando o +1, para garantir que haveria tinta  A MAIS\n",
    "#sem este valor, ficaria sempre um pedaço de área faltando pintar\n",
    "#nesta etapa, estava considerando que lançaria essa sobra pra o recipiente menor, o que estava parcialmente\n",
    "#ERRADO"
   ]
  },
  {
   "cell_type": "markdown",
   "id": "ab03bc10",
   "metadata": {
    "id": "ab03bc10"
   },
   "source": [
    "##### 2. Comprar apenas galões de 3,6 litros: (apenas galoes inteiros)"
   ]
  },
  {
   "cell_type": "code",
   "execution_count": 24,
   "id": "542f4a77",
   "metadata": {
    "id": "542f4a77"
   },
   "outputs": [
    {
     "name": "stdout",
     "output_type": "stream",
     "text": [
      "Informe o tamanho da área a ser pintada em m²: 216\n",
      "36.0\n",
      "10.0 latas de 3.6L, totalizando R$250.0 de custo\n"
     ]
    }
   ],
   "source": [
    "area = float(input('Informe o tamanho da área a ser pintada em m²: '))\n",
    "litros_tinta = area / 6\n",
    "\n",
    "\n",
    "if litros_tinta % 3.6 > 0:\n",
    "    latas_36 = litros_tinta // 3.6 + 1\n",
    "else:\n",
    "    latas_36 = litros_tinta // 3.6\n",
    "\n",
    "print('{} latas de 3.6L, totalizando R${} de custo'.format(latas_36, latas_36 * 25))\n",
    "\n",
    "#Ditto do bloco a cima. A falta do +1 estava fazendo com que, nem sequer uma compra exata, ficasse exata\n",
    "#e eu não faço ideia do porquê, mas da forma como está agora FUNCIONA"
   ]
  },
  {
   "cell_type": "markdown",
   "id": "8Jbw7RupH9Nc",
   "metadata": {
    "id": "8Jbw7RupH9Nc"
   },
   "source": [
    "##### 3. Misturar latas e galões, de forma que o desperdício de tinta seja menor. Acrescente 10% de folga e sempre arredonde os valores para cima, isto é, considere latas cheias."
   ]
  },
  {
   "cell_type": "markdown",
   "id": "93d4157b",
   "metadata": {
    "id": "93d4157b"
   },
   "source": [
    "O custo da lata é 80/18 = 4,44 R\\\\$/L\n",
    "\n",
    "O custo do galão é 25/3,6 = 6,94 R\\\\$/L\n",
    "\n",
    "A lata é mais econômica, então todas as latas inteiras que pudermos usar devemos comprar em latas. Se ficar faltando alguma coisa para completar devemos avaliar se é melhor comprar latas ou galões. Exemplo:\n",
    "\n",
    "Se queremos comprar 90 litros. 5 latas dão exatamente 90 litros. Então devemos comprar tudo em latas.\n",
    "\n",
    "Se queremos comprar 95 litros. 5 latas dão exatamente 90 litros. Então devemos comprar pelo menos 5 latas e avaliar o que falta, se estes últimos 5 litros valem mais apenas em latas ou galões.\n",
    "\n",
    "Para os 5 litros faltantes precisamos de 2 galões que custam 50 reais no total. Ou de uma lata que custa 80 reais no total. Portanto, neste caso vale mais a pena usar 2 galões.\n",
    "\n",
    "Se queremos comprar 107 litros. 5 latas dão exatamente 90 litros. Então devemos comprar pelo menos 5 latas e avaliar o que falta, se estes últimos 5 litros valem mais apenas em latas ou galões.\n",
    "\n",
    "Para os 17 litros faltantes precisamos de 5 galões que custam 125 reais no total. Ou de uma lata que custa 80 reais no total. Portanto, neste caso vale mais a pena usar uma lata.\n",
    "\n",
    "3 galões custam 75 reais, 4 galões custam 100 reais. Então, se for possível completar com até 3 galões escolhe-se galões. Qualquer quantidade maior que 3 galões, usa-se latas.\n",
    "\n",
    "Podemos ir ao exercício:"
   ]
  },
  {
   "cell_type": "code",
   "execution_count": 31,
   "id": "01d104b6",
   "metadata": {
    "id": "01d104b6"
   },
   "outputs": [
    {
     "name": "stdout",
     "output_type": "stream",
     "text": [
      "Informe o tamanho da área a ser pintada em m²: 150\n",
      "\n",
      "Para esta área, serão necessários 27.500000000000004 litros de tinta.\n",
      "\n",
      "Comprar 1.0 latas\n",
      "\n",
      "contudo, faltam ainda 9.500000000000004 litros\n",
      "\n",
      "São necessários 1.0 latas e 3.0 galões. Custando R$ 155.0 no total\n"
     ]
    }
   ],
   "source": [
    "#Agora sim a ideia é combinar a compra dos dois tipos de recipiente, visando minimizar custos\n",
    "area = float(input('Informe o tamanho da área a ser pintada em m²: '))\n",
    "litros_tinta = area / 6\n",
    "\n",
    "#Havia esquecido de acrescentar a folga de 10%!\n",
    "litros_tinta = litros_tinta * 1.1\n",
    "\n",
    "print('\\nPara esta área, serão necessários {} litros de tinta.\\n'.format(litros_tinta))\n",
    "#Como o próprio enunciado sugere, devemos priorizar usar \"latas de 18 litros, que custam R$ 80,00\" e\n",
    "#\"O custo da lata é 80/18 = 4,44 R$/L\"\n",
    "qtde_latas = litros_tinta // 18\n",
    "\n",
    "print('Comprar {} latas\\n'.format(qtde_latas))\n",
    "\n",
    "#eu havia pensado em calcular o faltante utilizando o operador %, mas estava dando errado\n",
    "#no gabarito o professor usou o seguinte modo\n",
    "\n",
    "faltante = litros_tinta - (qtde_latas * 18)\n",
    "\n",
    "print('contudo, faltam ainda {} litros\\n'.format(faltante))\n",
    "\n",
    "#o que faltou vai ser com completado usando galõoes de 3,6 litros, que custam R$ 25,00\n",
    "#para este sim, usar um if\n",
    "\n",
    "if faltante > 0:\n",
    "    #aparentemente, a linha acima é importante. A esta altura só quero decodificar o que o prof fez\n",
    "    if faltante % 3.6 > 0:\n",
    "        qtde_galoes = ( faltante // 3.6 ) + 1\n",
    "    else:\n",
    "        qtde_galoes = ( faltante // 3.6 )\n",
    "        #até então, este ultimo arranjo de IF acima foi identico as letras A e B desta questão\n",
    "        #então o professor usou um ultimo jogo de IF que eu não estava entendendo, então fui ler\n",
    "        #o enunciado e atentei no seguinte ponto:\n",
    "        #se for possível completar com até 3 galões escolhe-se galões. Qualquer quantidade maior que 3 galões, usa-se latas.\n",
    "    if qtde_galoes >= 3:\n",
    "        pass\n",
    "    else:\n",
    "        qtde_galoes = 0\n",
    "        qtde_latas = qtde_latas + 1\n",
    "        \n",
    "#agora é imprimir essa bagaça\n",
    "preco = qtde_latas * 80 + qtde_galoes * 25\n",
    "print(f'São necessários {qtde_latas} latas e {qtde_galoes} galões. Custando R$ {preco} no total')\n",
    "\n",
    "#Esta questão foi difícil por oferecer um grau elevado de nuance."
   ]
  }
 ],
 "metadata": {
  "colab": {
   "collapsed_sections": [],
   "provenance": []
  },
  "kernelspec": {
   "display_name": "Python 3 (ipykernel)",
   "language": "python",
   "name": "python3"
  },
  "language_info": {
   "codemirror_mode": {
    "name": "ipython",
    "version": 3
   },
   "file_extension": ".py",
   "mimetype": "text/x-python",
   "name": "python",
   "nbconvert_exporter": "python",
   "pygments_lexer": "ipython3",
   "version": "3.9.13"
  }
 },
 "nbformat": 4,
 "nbformat_minor": 5
}
