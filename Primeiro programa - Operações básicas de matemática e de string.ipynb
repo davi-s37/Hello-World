{
 "cells": [
  {
   "cell_type": "markdown",
   "id": "5556d276",
   "metadata": {},
   "source": [
    "# Meu primeiro programa!"
   ]
  },
  {
   "cell_type": "markdown",
   "id": "81fae407",
   "metadata": {},
   "source": [
    "O título foi escrito utilizando a função markdown enquanto a linha a seguir foi feita com a função code.\n",
    "Utilizando a função print escrevi o meu primeiro texto via código"
   ]
  },
  {
   "cell_type": "code",
   "execution_count": 1,
   "id": "6446e86d",
   "metadata": {
    "scrolled": false
   },
   "outputs": [
    {
     "name": "stdout",
     "output_type": "stream",
     "text": [
      "olá mundo!\n"
     ]
    }
   ],
   "source": [
    "print('olá mundo!')"
   ]
  },
  {
   "cell_type": "markdown",
   "id": "a33aa9c3",
   "metadata": {},
   "source": [
    "Aqui eu utilizei a mesma função print, só que desta vez, para fixar o uso das operações básicas, usando os operadores - + * e /.\n",
    "Usei um pouco de syntaxe para deixar escrito por extenso qual o cálculo que o programa está executando na forma de string\n"
   ]
  },
  {
   "cell_type": "code",
   "execution_count": 2,
   "id": "0fa6bb13",
   "metadata": {},
   "outputs": [
    {
     "name": "stdout",
     "output_type": "stream",
     "text": [
      "20000 - 3300 = 16700\n"
     ]
    }
   ],
   "source": [
    "print('20000 - 3300 =',20000-3300)"
   ]
  },
  {
   "cell_type": "code",
   "execution_count": 3,
   "id": "50d1f972",
   "metadata": {},
   "outputs": [
    {
     "name": "stdout",
     "output_type": "stream",
     "text": [
      "1998 + 25 = 2023\n",
      "5 * 5 = 25\n",
      "2 / 3 = 0.6666666666666666\n"
     ]
    }
   ],
   "source": [
    "print('1998 + 25 =',1998+25)\n",
    "print('5 * 5 =',5*5)\n",
    "print('2 / 3 =',2/3)"
   ]
  },
  {
   "cell_type": "markdown",
   "id": "e0acba01",
   "metadata": {},
   "source": [
    "Posso calcular exponenciais usando o operador **"
   ]
  },
  {
   "cell_type": "code",
   "execution_count": 4,
   "id": "975207b7",
   "metadata": {},
   "outputs": [
    {
     "name": "stdout",
     "output_type": "stream",
     "text": [
      "2**2= 4\n"
     ]
    }
   ],
   "source": [
    "print('2 ** 2 =', 2 ** 2)"
   ]
  },
  {
   "cell_type": "markdown",
   "id": "b772abc0",
   "metadata": {},
   "source": [
    "Para saber o resto do valor de uma divisão, posso usar o operador %"
   ]
  },
  {
   "cell_type": "code",
   "execution_count": 5,
   "id": "f6c99e5c",
   "metadata": {},
   "outputs": [
    {
     "name": "stdout",
     "output_type": "stream",
     "text": [
      "7%3= 1\n"
     ]
    }
   ],
   "source": [
    "print('7 % 3 =',7 % 3)"
   ]
  },
  {
   "cell_type": "markdown",
   "id": "d8425c95",
   "metadata": {},
   "source": [
    "As operações no Python seguem uma ordem de precedência.  \n",
    "Esta ordem é conhecida como PEMDAS - P – Parentheses.\n",
    "E – Exponentiation.\n",
    "M – Multiplication.\n",
    "D – Division.\n",
    "A – Addition.\n",
    "S – Subtraction  \n",
    "  \n",
    "  Veja:"
   ]
  },
  {
   "cell_type": "code",
   "execution_count": 7,
   "id": "a2475bb2",
   "metadata": {},
   "outputs": [
    {
     "name": "stdout",
     "output_type": "stream",
     "text": [
      " 1 + 2 * 2 = 5\n",
      "(1 + 2) * 2 = 6\n"
     ]
    }
   ],
   "source": [
    "print(' 1 + 2 * 2 =',1 + 2 * 2)\n",
    "print('(1 + 2) * 2 =',(1 + 2) * 2)"
   ]
  },
  {
   "cell_type": "markdown",
   "id": "a4adb659",
   "metadata": {},
   "source": [
    "Concatenar strings é fácil, observe"
   ]
  },
  {
   "cell_type": "code",
   "execution_count": 11,
   "id": "3d412e39",
   "metadata": {},
   "outputs": [
    {
     "name": "stdout",
     "output_type": "stream",
     "text": [
      "A + B = AB\n"
     ]
    }
   ],
   "source": [
    "print('A + B = '+'AB')"
   ]
  },
  {
   "cell_type": "markdown",
   "id": "ef79762e",
   "metadata": {},
   "source": [
    "Para procurar um determinado fragmento de texto dentro de um string, faço o seguinte"
   ]
  },
  {
   "cell_type": "code",
   "execution_count": 14,
   "id": "00463062",
   "metadata": {},
   "outputs": [
    {
     "name": "stdout",
     "output_type": "stream",
     "text": [
      "False\n",
      "True\n",
      "False\n"
     ]
    }
   ],
   "source": [
    "print('davi' in 'carlos fabiano maria julia')\n",
    "print('a' in 'a b c d e f g')\n",
    "print('A' in 'a b c d e f g')"
   ]
  }
 ],
 "metadata": {
  "kernelspec": {
   "display_name": "Python 3 (ipykernel)",
   "language": "python",
   "name": "python3"
  },
  "language_info": {
   "codemirror_mode": {
    "name": "ipython",
    "version": 3
   },
   "file_extension": ".py",
   "mimetype": "text/x-python",
   "name": "python",
   "nbconvert_exporter": "python",
   "pygments_lexer": "ipython3",
   "version": "3.9.13"
  }
 },
 "nbformat": 4,
 "nbformat_minor": 5
}
