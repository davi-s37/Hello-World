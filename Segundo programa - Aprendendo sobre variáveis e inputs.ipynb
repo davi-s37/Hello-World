{
 "cells": [
  {
   "cell_type": "markdown",
   "id": "9ad2999a",
   "metadata": {},
   "source": [
    "Variável é o nome que eu dou para um valor específico"
   ]
  },
  {
   "cell_type": "code",
   "execution_count": 1,
   "id": "6ce9f8ce",
   "metadata": {},
   "outputs": [],
   "source": [
    "minha_idade=24\n",
    "meu_nome='Davi'"
   ]
  },
  {
   "cell_type": "markdown",
   "id": "263aa2b6",
   "metadata": {},
   "source": [
    "Eu posso 'chamar' estas variáveis dentro dos programas"
   ]
  },
  {
   "cell_type": "code",
   "execution_count": 2,
   "id": "9fb9c236",
   "metadata": {},
   "outputs": [
    {
     "name": "stdout",
     "output_type": "stream",
     "text": [
      "Olá! Meu nome é  Davi  e eu tenho 24 anos. Nasci no ano de 1998\n"
     ]
    }
   ],
   "source": [
    "print('Olá! Meu nome é ',meu_nome,' e eu tenho', minha_idade, 'anos. Nasci no ano de', 2022-minha_idade)"
   ]
  },
  {
   "cell_type": "markdown",
   "id": "8ac4abd3",
   "metadata": {},
   "source": [
    "As vezes é preciso que o usuário do programa insira informações próprias no código -> A isso chamamos de input"
   ]
  },
  {
   "cell_type": "code",
   "execution_count": 3,
   "id": "59666328",
   "metadata": {},
   "outputs": [
    {
     "name": "stdout",
     "output_type": "stream",
     "text": [
      "qual o seu nome? Jonh\n"
     ]
    },
    {
     "data": {
      "text/plain": [
       "'Jonh'"
      ]
     },
     "execution_count": 3,
     "metadata": {},
     "output_type": "execute_result"
    }
   ],
   "source": [
    "input('qual o seu nome? ')"
   ]
  },
  {
   "cell_type": "markdown",
   "id": "e4d432e8",
   "metadata": {},
   "source": [
    "É preciso armazenar esse input em algum lugar"
   ]
  },
  {
   "cell_type": "code",
   "execution_count": 5,
   "id": "960b55df",
   "metadata": {},
   "outputs": [
    {
     "name": "stdout",
     "output_type": "stream",
     "text": [
      "Qual o seu nome? Desta vez eu vou lembrar! João Ninguém\n"
     ]
    }
   ],
   "source": [
    "nome=input('Qual o seu nome? Desta vez eu vou lembrar! ')"
   ]
  },
  {
   "cell_type": "code",
   "execution_count": 10,
   "id": "298d951c",
   "metadata": {},
   "outputs": [
    {
     "name": "stdout",
     "output_type": "stream",
     "text": [
      "Qual seu primeiro nome? Davi \n",
      "Qual seu segundo nome? Nascimento\n",
      "Olá Davi  Nascimento !\n"
     ]
    }
   ],
   "source": [
    "primeiro_nome=input('Qual seu primeiro nome? ')\n",
    "segundo_nome=input('Qual seu segundo nome? ')\n",
    "print('Olá', primeiro_nome +' '+ segundo_nome, '!')"
   ]
  }
 ],
 "metadata": {
  "kernelspec": {
   "display_name": "Python 3 (ipykernel)",
   "language": "python",
   "name": "python3"
  },
  "language_info": {
   "codemirror_mode": {
    "name": "ipython",
    "version": 3
   },
   "file_extension": ".py",
   "mimetype": "text/x-python",
   "name": "python",
   "nbconvert_exporter": "python",
   "pygments_lexer": "ipython3",
   "version": "3.9.13"
  }
 },
 "nbformat": 4,
 "nbformat_minor": 5
}
