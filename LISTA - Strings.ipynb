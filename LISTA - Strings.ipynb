{
 "cells": [
  {
   "cell_type": "markdown",
   "id": "2b04bbea",
   "metadata": {},
   "source": [
    "# Strings\n",
    "\n",
    "<span style=\"color: red;\"><b>Todos os exercícios são feitos partindo-se do pressuposto de que todas as entradas são dadas de forma correta. Casos limite não mencionados no enunciado não são abordados porque não fazem parte do exercício.</b></span>"
   ]
  },
  {
   "cell_type": "markdown",
   "id": "5b1f33b9",
   "metadata": {},
   "source": [
    "#### 1. Tamanho de strings. Faça um programa que leia 2 strings e informe o conteúdo delas seguido do seu comprimento. Informe também se as duas strings possuem o mesmo comprimento e são iguais ou diferentes no conteúdo.\n",
    "<pre>\n",
    "Compara duas strings\n",
    "String 1: Brasil Hexa 2006\n",
    "String 2: Brasil! Hexa 2006!\n",
    "Tamanho de \"Brasil Hexa 2006\": 16 caracteres\n",
    "Tamanho de \"Brasil! Hexa 2006!\": 18 caracteres\n",
    "As duas strings são de tamanhos diferentes.\n",
    "As duas strings possuem conteúdo diferente.\n",
    "</pre>"
   ]
  },
  {
   "cell_type": "code",
   "execution_count": 6,
   "id": "c492b657",
   "metadata": {},
   "outputs": [
    {
     "name": "stdout",
     "output_type": "stream",
     "text": [
      "Digite aqui a primeira frase: abc1\n",
      "Digite aqui a segunda frase: abc\n",
      "\n",
      "Tamanho de abc1: 4 caracteres\n",
      "\n",
      "Tamanho de abc: 3 caracteres\n",
      "\n",
      "As frases tem tamanhos diferentes\n",
      "\n",
      "As frases possuem conteúdo diferente\n"
     ]
    }
   ],
   "source": [
    "#capturar strings, verificar tamanho e depois comparar. Deve ser fácil, certo?\n",
    "entrada1=input('Digite aqui a primeira frase: ')\n",
    "entrada2=input('Digite aqui a segunda frase: ')\n",
    "\n",
    "tamanho1=len(entrada1)\n",
    "tamanho2=len(entrada2)\n",
    "\n",
    "#aqui eu já informo qual a frase e seu respectivo tamanho\n",
    "print('\\nTamanho de {}: {} caracteres'.format(entrada1,tamanho1))\n",
    "print('\\nTamanho de {}: {} caracteres'.format(entrada2,tamanho2))\n",
    "\n",
    "#aqui é só comparar\n",
    "if tamanho1 == tamanho2:\n",
    "    print('\\nAs frases tem tamanhos iguais')\n",
    "else:\n",
    "    print('\\nAs frases tem tamanhos diferentes')\n",
    "    \n",
    "if entrada1 != entrada2:\n",
    "    print('\\nAs frases possuem conteúdo diferente')\n",
    "else:\n",
    "    print('\\nAs frases possuem conteúdo igual')\n",
    "    \n",
    "#até que foi fácil..."
   ]
  },
  {
   "cell_type": "markdown",
   "id": "c3068a53",
   "metadata": {},
   "source": [
    "#### 2. Valida e corrige número de telefone. Faça um programa que leia um número de telefone, e corrija o número no caso deste conter somente 7 dígitos, acrescentando o '3' na frente. O usuário pode informar o número com ou sem o traço separador.\n",
    "<pre>\n",
    "Valida e corrige número de telefone\n",
    "Telefone: 461-0133\n",
    "Telefone possui 7 dígitos. Vou acrescentar o digito três na frente.\n",
    "Telefone corrigido sem formatação: 34610133\n",
    "Telefone corrigido com formatação: 3461-0133\n",
    "</pre>"
   ]
  },
  {
   "cell_type": "code",
   "execution_count": 16,
   "id": "0308566d",
   "metadata": {},
   "outputs": [
    {
     "name": "stdout",
     "output_type": "stream",
     "text": [
      "Digite o número de telefone: 1\n",
      "informe um número válido\n"
     ]
    }
   ],
   "source": [
    "#este já é mais complexo.\n",
    "#começar pela coleta\n",
    "telefone = input('Digite o número de telefone: ')\n",
    "\n",
    "#esqueci de incluir essa brincadeirinha aqui, para tratar o dado de entrada do usuário '-'\n",
    "telefone = telefone.replace('-', '')\n",
    "\n",
    "if len(telefone) < 7:\n",
    "    print('informe um número válido')\n",
    "elif len(telefone) == 7:\n",
    "    print('Telefone possui 7 dígitos. Vou acrescentar o digito três na frente')\n",
    "   #simplesmente concatenar deve resolver\n",
    "    telefone = '3' + telefone\n",
    "    print(f'telefone corrigido sem formatação: {telefone}')\n",
    "   \n",
    "    #agora ferrou, como vou enfiar aquele hífen bem no meio do texto???\n",
    "    #vou dar uma espiada no gabarito ,':^D\n",
    "    print(f'Telefone corrigido com formatação: {telefone[:4]}-{telefone[4:]}')\n",
    "    #eu havia me esquecido completamente desta função dos colchetes '-'\n",
    "else:\n",
    "    print(f'Telefone: {telefone[:4]}-{telefone[4:]}')\n",
    "\n"
   ]
  },
  {
   "cell_type": "code",
   "execution_count": 28,
   "id": "6ea075d6",
   "metadata": {},
   "outputs": [
    {
     "name": "stdout",
     "output_type": "stream",
     "text": [
      "informe email: davi@gamil.com\n",
      "4\n",
      "@gamil.com\n",
      "Email válido\n"
     ]
    }
   ],
   "source": [
    "#este bloco extra aqui é só para por em prática o verificar do email mostrado em aula\n",
    "\n",
    "email = input('informe email: ')\n",
    "pos_a = email.find('@')\n",
    "\n",
    "servidor = email[pos_a:]\n",
    "#incrível como eu sempre esqueço de usar os colchetes\n",
    "\n",
    "if pos_a != -1 and '.' in servidor:\n",
    "    print('Email válido')\n",
    "else:\n",
    "    print('informe um email válido')"
   ]
  }
 ],
 "metadata": {
  "kernelspec": {
   "display_name": "Python 3 (ipykernel)",
   "language": "python",
   "name": "python3"
  },
  "language_info": {
   "codemirror_mode": {
    "name": "ipython",
    "version": 3
   },
   "file_extension": ".py",
   "mimetype": "text/x-python",
   "name": "python",
   "nbconvert_exporter": "python",
   "pygments_lexer": "ipython3",
   "version": "3.9.13"
  }
 },
 "nbformat": 4,
 "nbformat_minor": 5
}
